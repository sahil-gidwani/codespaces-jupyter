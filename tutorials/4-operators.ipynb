{
 "cells": [
  {
   "cell_type": "markdown",
   "metadata": {},
   "source": [
    "## Operators in Python\n",
    "\n",
    "### Definition:\n",
    "\n",
    "Operators in Python are symbols that perform operations on operands, such as variables or values, and produce a result.\n",
    "\n",
    "### Categories of Python Operators:\n",
    "\n",
    "1. **Arithmetic Operators:**\n",
    "   - Perform mathematical operations like addition, subtraction, multiplication, division, etc.\n",
    "   - Example: `+, -, *, /, %`\n",
    "\n",
    "2. **Comparison (Relational) Operators:**\n",
    "   - Compare two values and return a Boolean result (True or False).\n",
    "   - Example: `==, !=, <, >, <=, >=`\n",
    "\n",
    "3. **Logical Operators:**\n",
    "   - Perform logical operations on Boolean values.\n",
    "   - Example: `and, or, not`\n",
    "\n",
    "4. **Assignment Operators:**\n",
    "   - Assign values to variables and perform operations in a single step.\n",
    "   - Example: `=, +=, -=, *=, /=`\n",
    "\n",
    "5. **Identity Operators:**\n",
    "   - Check if two variables refer to the same object.\n",
    "   - Example: `is, is not`\n",
    "\n",
    "6. **Membership Operators:**\n",
    "   - Test whether a value is a member of a sequence (e.g., list, tuple, string).\n",
    "   - Example: `in, not in`\n",
    "\n",
    "7. **Bitwise Operators:**\n",
    "   - Perform bitwise operations on integers.\n",
    "   - Example: `&, |, ^, ~, <<, >>`\n",
    "\n",
    "8. **Unary Operators:**\n",
    "   - Operate on a single operand.\n",
    "   - Example: `-x` (negation), `+x` (unary plus), `not` (logical NOT)\n",
    "\n",
    "9. **Ternary Operator (Conditional Expression):**\n",
    "   - Provides a concise way to write an `if-else` statement.\n",
    "   - Example: `x if condition else y`\n",
    "\n",
    "These operators cover a wide range of operations, making Python a versatile language for various programming tasks."
   ]
  },
  {
   "cell_type": "markdown",
   "metadata": {},
   "source": [
    "## Arithmetic Operators"
   ]
  },
  {
   "cell_type": "markdown",
   "metadata": {},
   "source": [
    "## Precedence of Arithmetic Operators in Python\n",
    "### The precedence of Arithmetic Operators in python is as follows:\n",
    "- P – Parentheses\n",
    "- E – Exponentiation\n",
    "- M – Multiplication (Multiplication and division have the same precedence)\n",
    "- D – Division\n",
    "- A – Addition (Addition and subtraction have the same precedence)\n",
    "- S – Subtraction"
   ]
  },
  {
   "cell_type": "code",
   "execution_count": 1,
   "metadata": {},
   "outputs": [
    {
     "name": "stdout",
     "output_type": "stream",
     "text": [
      "Addition: 8\n",
      "Subtraction: 5\n",
      "Multiplication: 24\n",
      "Division: 5.0\n",
      "Floor Division: 3\n",
      "Modulus (Remainder): 2\n",
      "Exponentiation: 16\n"
     ]
    }
   ],
   "source": [
    "# Addition\n",
    "result_addition = 5 + 3\n",
    "print(\"Addition:\", result_addition)\n",
    "\n",
    "# Subtraction\n",
    "result_subtraction = 8 - 3\n",
    "print(\"Subtraction:\", result_subtraction)\n",
    "\n",
    "# Multiplication\n",
    "result_multiplication = 4 * 6\n",
    "print(\"Multiplication:\", result_multiplication)\n",
    "\n",
    "# Division\n",
    "result_division = 15 / 3\n",
    "print(\"Division:\", result_division)\n",
    "\n",
    "# Floor Division\n",
    "result_floor_division = 17 // 5\n",
    "print(\"Floor Division:\", result_floor_division)\n",
    "\n",
    "# Modulus (Remainder)\n",
    "result_modulus = 17 % 5\n",
    "print(\"Modulus (Remainder):\", result_modulus)\n",
    "\n",
    "# Exponentiation\n",
    "result_exponentiation = 2 ** 4\n",
    "print(\"Exponentiation:\", result_exponentiation)"
   ]
  },
  {
   "cell_type": "markdown",
   "metadata": {},
   "source": [
    "## Relational Operators"
   ]
  },
  {
   "cell_type": "code",
   "execution_count": 11,
   "metadata": {},
   "outputs": [
    {
     "name": "stdout",
     "output_type": "stream",
     "text": [
      "Equal to: True\n",
      "Not equal to: True\n",
      "Greater than: True\n",
      "Less than: True\n",
      "Greater than or equal to: True\n",
      "Less than or equal to: True\n"
     ]
    }
   ],
   "source": [
    "# Equal to\n",
    "result_equal = 5 == 5\n",
    "print(\"Equal to:\", result_equal)\n",
    "\n",
    "# Not equal to\n",
    "result_not_equal = 5 != 3\n",
    "print(\"Not equal to:\", result_not_equal)\n",
    "\n",
    "# Greater than\n",
    "result_greater_than = 8 > 5\n",
    "print(\"Greater than:\", result_greater_than)\n",
    "\n",
    "# Less than\n",
    "result_less_than = 4 < 6\n",
    "print(\"Less than:\", result_less_than)\n",
    "\n",
    "# Greater than or equal to\n",
    "result_greater_equal = 7 >= 7\n",
    "print(\"Greater than or equal to:\", result_greater_equal)\n",
    "\n",
    "# Less than or equal to\n",
    "result_less_equal = 10 <= 12\n",
    "print(\"Less than or equal to:\", result_less_equal)"
   ]
  },
  {
   "cell_type": "markdown",
   "metadata": {},
   "source": [
    "## Logical Operators"
   ]
  },
  {
   "cell_type": "code",
   "execution_count": 2,
   "metadata": {},
   "outputs": [
    {
     "name": "stdout",
     "output_type": "stream",
     "text": [
      "Logical AND: False\n",
      "Logical OR: True\n",
      "Logical NOT: False\n"
     ]
    }
   ],
   "source": [
    "# Logical AND\n",
    "result_and = True and False\n",
    "print(\"Logical AND:\", result_and)\n",
    "\n",
    "# Logical OR\n",
    "result_or = True or False\n",
    "print(\"Logical OR:\", result_or)\n",
    "\n",
    "# Logical NOT\n",
    "result_not = not True\n",
    "print(\"Logical NOT:\", result_not)"
   ]
  },
  {
   "cell_type": "markdown",
   "metadata": {},
   "source": [
    "## Assignment Operators"
   ]
  },
  {
   "cell_type": "code",
   "execution_count": 3,
   "metadata": {},
   "outputs": [
    {
     "name": "stdout",
     "output_type": "stream",
     "text": [
      "Assignment: 5\n",
      "Addition Assignment: 8\n",
      "Subtraction Assignment: 5\n",
      "Multiplication Assignment: 24\n",
      "Division Assignment: 5.0\n",
      "Floor Division Assignment: 3\n",
      "Modulus Assignment: 2\n",
      "Exponentiation Assignment: 16\n"
     ]
    }
   ],
   "source": [
    "# Assignment\n",
    "x = 5\n",
    "print(\"Assignment:\", x)\n",
    "\n",
    "# Addition Assignment\n",
    "x += 3\n",
    "print(\"Addition Assignment:\", x)\n",
    "\n",
    "# Subtraction Assignment\n",
    "y = 8\n",
    "y -= 3\n",
    "print(\"Subtraction Assignment:\", y)\n",
    "\n",
    "# Multiplication Assignment\n",
    "z = 4\n",
    "z *= 6\n",
    "print(\"Multiplication Assignment:\", z)\n",
    "\n",
    "# Division Assignment\n",
    "w = 15\n",
    "w /= 3\n",
    "print(\"Division Assignment:\", w)\n",
    "\n",
    "# Floor Division Assignment\n",
    "a = 17\n",
    "a //= 5\n",
    "print(\"Floor Division Assignment:\", a)\n",
    "\n",
    "# Modulus Assignment\n",
    "b = 17\n",
    "b %= 5\n",
    "print(\"Modulus Assignment:\", b)\n",
    "\n",
    "# Exponentiation Assignment\n",
    "c = 2\n",
    "c **= 4\n",
    "print(\"Exponentiation Assignment:\", c)"
   ]
  },
  {
   "cell_type": "markdown",
   "metadata": {},
   "source": [
    "## Identity Operators"
   ]
  },
  {
   "cell_type": "code",
   "execution_count": 4,
   "metadata": {},
   "outputs": [
    {
     "name": "stdout",
     "output_type": "stream",
     "text": [
      "Using 'is' operator: False\n",
      "Using 'is not' operator: False\n",
      "Identity of x: 139855952958784\n",
      "Identity of y: 139855952955648\n",
      "Identity of z: 139855952958784\n"
     ]
    }
   ],
   "source": [
    "# is operator\n",
    "x = [1, 2, 3]\n",
    "y = [1, 2, 3]\n",
    "z = x\n",
    "\n",
    "result_is = x is y\n",
    "print(\"Using 'is' operator:\", result_is)  # False, as x and y are distinct objects\n",
    "\n",
    "result_is_not = x is not z\n",
    "print(\"Using 'is not' operator:\", result_is_not)  # True, as x and z reference the same object\n",
    "\n",
    "# id() function can be used to check the identity of objects\n",
    "print(\"Identity of x:\", id(x))\n",
    "print(\"Identity of y:\", id(y))\n",
    "print(\"Identity of z:\", id(z))"
   ]
  },
  {
   "cell_type": "markdown",
   "metadata": {},
   "source": [
    "## Membership Operators"
   ]
  },
  {
   "cell_type": "code",
   "execution_count": 5,
   "metadata": {},
   "outputs": [
    {
     "name": "stdout",
     "output_type": "stream",
     "text": [
      "In: True\n",
      "Not In: True\n",
      "In (with strings): True\n",
      "Not In (with strings): True\n"
     ]
    }
   ],
   "source": [
    "# In\n",
    "fruits = [\"apple\", \"banana\", \"cherry\"]\n",
    "result_in = \"banana\" in fruits\n",
    "print(\"In:\", result_in)\n",
    "\n",
    "# Not In\n",
    "result_not_in = \"orange\" not in fruits\n",
    "print(\"Not In:\", result_not_in)\n",
    "\n",
    "# In (with strings)\n",
    "text = \"Hello, World!\"\n",
    "result_in_string = \"Hello\" in text\n",
    "print(\"In (with strings):\", result_in_string)\n",
    "\n",
    "# Not In (with strings)\n",
    "result_not_in_string = \"Python\" not in text\n",
    "print(\"Not In (with strings):\", result_not_in_string)"
   ]
  },
  {
   "cell_type": "markdown",
   "metadata": {},
   "source": [
    "## Bitwise Operators"
   ]
  },
  {
   "cell_type": "code",
   "execution_count": 6,
   "metadata": {},
   "outputs": [
    {
     "name": "stdout",
     "output_type": "stream",
     "text": [
      "Bitwise AND: 1\n",
      "Bitwise OR: 7\n",
      "Bitwise XOR: 6\n",
      "Bitwise NOT: -6\n",
      "Left Shift: 32\n",
      "Right Shift: 4\n"
     ]
    }
   ],
   "source": [
    "# Bitwise AND\n",
    "result_and = 5 & 3\n",
    "print(\"Bitwise AND:\", result_and)\n",
    "\n",
    "# Bitwise OR\n",
    "result_or = 5 | 3\n",
    "print(\"Bitwise OR:\", result_or)\n",
    "\n",
    "# Bitwise XOR\n",
    "result_xor = 5 ^ 3\n",
    "print(\"Bitwise XOR:\", result_xor)\n",
    "\n",
    "# Bitwise NOT\n",
    "result_not = ~5\n",
    "print(\"Bitwise NOT:\", result_not)\n",
    "\n",
    "# Left Shift\n",
    "result_left_shift = 8 << 2\n",
    "print(\"Left Shift:\", result_left_shift)\n",
    "\n",
    "# Right Shift\n",
    "result_right_shift = 16 >> 2\n",
    "print(\"Right Shift:\", result_right_shift)"
   ]
  },
  {
   "cell_type": "markdown",
   "metadata": {},
   "source": [
    "## Unary Operators"
   ]
  },
  {
   "cell_type": "code",
   "execution_count": 7,
   "metadata": {},
   "outputs": [
    {
     "name": "stdout",
     "output_type": "stream",
     "text": [
      "Unary Plus: 5\n",
      "Unary Negation: 8\n",
      "Logical NOT: False\n",
      "Bitwise NOT: -11\n"
     ]
    }
   ],
   "source": [
    "# Unary Plus\n",
    "x = 5\n",
    "result_unary_plus = +x\n",
    "print(\"Unary Plus:\", result_unary_plus)\n",
    "\n",
    "# Unary Negation\n",
    "y = -8\n",
    "result_unary_negation = -y\n",
    "print(\"Unary Negation:\", result_unary_negation)\n",
    "\n",
    "# Logical NOT\n",
    "is_true = True\n",
    "result_logical_not = not is_true\n",
    "print(\"Logical NOT:\", result_logical_not)\n",
    "\n",
    "# Bitwise NOT\n",
    "binary_number = 0b1010\n",
    "result_bitwise_not = ~binary_number\n",
    "print(\"Bitwise NOT:\", result_bitwise_not)"
   ]
  },
  {
   "cell_type": "markdown",
   "metadata": {},
   "source": [
    "## Ternary Operator"
   ]
  },
  {
   "cell_type": "code",
   "execution_count": 8,
   "metadata": {},
   "outputs": [
    {
     "name": "stdout",
     "output_type": "stream",
     "text": [
      "y is greater\n"
     ]
    }
   ],
   "source": [
    "# Ternary Operator (Conditional Expression)\n",
    "x = 10\n",
    "y = 20\n",
    "\n",
    "# If x is greater than y, result is \"x is greater,\" else \"y is greater\"\n",
    "result = \"x is greater\" if x > y else \"y is greater\"\n",
    "\n",
    "print(result)"
   ]
  },
  {
   "cell_type": "markdown",
   "metadata": {},
   "source": [
    "## Operator Overloading in Python\n",
    "\n",
    "In Python, **operator overloading** refers to the ability to define how an operator behaves for user-defined objects. This is achieved through the use of **magic methods** or **dunder methods** (double underscore methods), which are special methods in Python that start and end with double underscores.\n",
    "\n",
    "### Magic Methods for Operator Overloading\n",
    "\n",
    "- **`__add__`:** Overloads the `+` operator.\n",
    "- **`__sub__`:** Overloads the `-` operator.\n",
    "- **`__mul__`:** Overloads the `*` operator.\n",
    "- **`__truediv__`:** Overloads the `/` operator for true division.\n",
    "- **`__floordiv__`:** Overloads the `//` operator for floor division.\n",
    "- **`__mod__`:** Overloads the `%` operator for modulus.\n",
    "- **`__pow__`:** Overloads the `**` operator for exponentiation.\n",
    "- **`__eq__`:** Overloads the `==` operator for equality.\n",
    "- **`__lt__`:** Overloads the `<` operator for less than.\n",
    "- **`__le__`:** Overloads the `<=` operator for less than or equal to.\n",
    "- **`__gt__`:** Overloads the `>` operator for greater than.\n",
    "- **`__ge__`:** Overloads the `>=` operator for greater than or equal to.\n",
    "- **`__ne__`:** Overloads the `!=` operator for not equal to.\n",
    "\n",
    "Operator overloading allows you to define custom behaviors for operators based on the types of objects involved, enhancing the flexibility and expressiveness of your code.\n"
   ]
  },
  {
   "cell_type": "code",
   "execution_count": 10,
   "metadata": {},
   "outputs": [
    {
     "name": "stdout",
     "output_type": "stream",
     "text": [
      "Result of Addition: Point(4, 6)\n",
      "Equality Check: False\n"
     ]
    }
   ],
   "source": [
    "class Point:\n",
    "    def __init__(self, x, y):\n",
    "        self.x = x\n",
    "        self.y = y\n",
    "\n",
    "    def __add__(self, other):\n",
    "        # Overloading the + operator\n",
    "        return Point(self.x + other.x, self.y + other.y)\n",
    "\n",
    "    def __eq__(self, other):\n",
    "        # Overloading the == operator for equality\n",
    "        return self.x == other.x and self.y == other.y\n",
    "    \n",
    "    def __str__(self):\n",
    "        # Custom string representation\n",
    "        return f\"Point({self.x}, {self.y})\"\n",
    "\n",
    "point1 = Point(1, 2)\n",
    "point2 = Point(3, 4)\n",
    "\n",
    "result_addition = point1 + point2\n",
    "print(\"Result of Addition:\", result_addition)\n",
    "\n",
    "result_equality = point1 == point2\n",
    "print(\"Equality Check:\", result_equality)"
   ]
  }
 ],
 "metadata": {
  "kernelspec": {
   "display_name": "Python 3",
   "language": "python",
   "name": "python3"
  },
  "language_info": {
   "codemirror_mode": {
    "name": "ipython",
    "version": 3
   },
   "file_extension": ".py",
   "mimetype": "text/x-python",
   "name": "python",
   "nbconvert_exporter": "python",
   "pygments_lexer": "ipython3",
   "version": "3.10.13"
  }
 },
 "nbformat": 4,
 "nbformat_minor": 2
}
