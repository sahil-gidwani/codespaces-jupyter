{
 "cells": [
  {
   "cell_type": "markdown",
   "metadata": {},
   "source": [
    "# Taking Input from User"
   ]
  },
  {
   "cell_type": "code",
   "execution_count": null,
   "metadata": {},
   "outputs": [],
   "source": [
    "# Method 1: Using input() for general input\n",
    "user_name = input(\"Enter your name: \")\n",
    "print(\"Hello, \" + user_name + \"!\")"
   ]
  },
  {
   "cell_type": "code",
   "execution_count": null,
   "metadata": {},
   "outputs": [],
   "source": [
    "# Method 2: Using int() for integer input\n",
    "age = int(input(\"Enter your age: \"))\n",
    "print(\"You are\", age, \"years old.\")"
   ]
  },
  {
   "cell_type": "code",
   "execution_count": null,
   "metadata": {},
   "outputs": [],
   "source": [
    "# Method 3: Using float() for floating-point input\n",
    "height = float(input(\"Enter your height in meters: \"))\n",
    "print(\"Your height is\", height, \"meters.\")"
   ]
  },
  {
   "cell_type": "code",
   "execution_count": null,
   "metadata": {},
   "outputs": [],
   "source": [
    "# Method 4: Using split() for multiple inputs as strings\n",
    "numbers = input(\"Enter two numbers separated by a space: \").split()\n",
    "num1, num2 = int(numbers[0]), int(numbers[1])\n",
    "print(\"Sum of the numbers:\", num1 + num2)"
   ]
  },
  {
   "cell_type": "code",
   "execution_count": 2,
   "metadata": {},
   "outputs": [
    {
     "name": "stdout",
     "output_type": "stream",
     "text": [
      "Area: 10.0\n"
     ]
    }
   ],
   "source": [
    "# Method 5: Using map() for mapping input values to a specific data type\n",
    "dimensions = map(float, input(\"Enter length and width separated by a space: \").split())\n",
    "length, width = dimensions\n",
    "area = length * width\n",
    "print(\"Area:\", area)"
   ]
  },
  {
   "cell_type": "code",
   "execution_count": 1,
   "metadata": {},
   "outputs": [
    {
     "name": "stdout",
     "output_type": "stream",
     "text": [
      "Result of the expression: 11\n"
     ]
    }
   ],
   "source": [
    "# Method 6: Using eval() for evaluating complex expressions\n",
    "expression_result = eval(input(\"Enter a mathematical expression: \"))\n",
    "print(\"Result of the expression:\", expression_result)"
   ]
  },
  {
   "cell_type": "markdown",
   "metadata": {},
   "source": [
    "# Printing Outputs"
   ]
  },
  {
   "cell_type": "code",
   "execution_count": 3,
   "metadata": {},
   "outputs": [
    {
     "name": "stdout",
     "output_type": "stream",
     "text": [
      "Hello, Alice!\n"
     ]
    }
   ],
   "source": [
    "# Method 1: Using print() with strings\n",
    "name = \"Alice\"\n",
    "print(\"Hello, \" + name + \"!\")"
   ]
  },
  {
   "cell_type": "code",
   "execution_count": 4,
   "metadata": {},
   "outputs": [
    {
     "name": "stdout",
     "output_type": "stream",
     "text": [
      "You are 25 years old.\n"
     ]
    }
   ],
   "source": [
    "# Method 2: Using f-strings (formatted string literals)\n",
    "age = 25\n",
    "print(f\"You are {age} years old.\")"
   ]
  },
  {
   "cell_type": "code",
   "execution_count": 5,
   "metadata": {},
   "outputs": [
    {
     "name": "stdout",
     "output_type": "stream",
     "text": [
      "Your height is 1.75 meters.\n"
     ]
    }
   ],
   "source": [
    "# Method 3: Using the format() method\n",
    "height = 1.75\n",
    "print(\"Your height is {:.2f} meters.\".format(height))"
   ]
  },
  {
   "cell_type": "code",
   "execution_count": 6,
   "metadata": {},
   "outputs": [
    {
     "name": "stdout",
     "output_type": "stream",
     "text": [
      "Sum of 10 and 20 is 30\n"
     ]
    }
   ],
   "source": [
    "# Method 4: Using multiple arguments with print()\n",
    "num1 = 10\n",
    "num2 = 20\n",
    "print(\"Sum of\", num1, \"and\", num2, \"is\", num1 + num2)"
   ]
  },
  {
   "cell_type": "code",
   "execution_count": 1,
   "metadata": {},
   "outputs": [
    {
     "name": "stdout",
     "output_type": "stream",
     "text": [
      "This\twill be on the same line.\n"
     ]
    }
   ],
   "source": [
    "# Method 5: Using the end parameter to change the end character\n",
    "print(\"This\", end=\"\\t\")\n",
    "print(\"will be on the same line.\")"
   ]
  },
  {
   "cell_type": "code",
   "execution_count": 8,
   "metadata": {},
   "outputs": [
    {
     "name": "stdout",
     "output_type": "stream",
     "text": [
      "One, Two, Three\n"
     ]
    }
   ],
   "source": [
    "# Method 6: Using the sep parameter to change the separator\n",
    "print(\"One\", \"Two\", \"Three\", sep=\", \")"
   ]
  },
  {
   "cell_type": "code",
   "execution_count": 9,
   "metadata": {},
   "outputs": [
    {
     "name": "stdout",
     "output_type": "stream",
     "text": [
      "This is on the same line.\n"
     ]
    }
   ],
   "source": [
    "# Method 7: Printing without newline using end\n",
    "print(\"This is on\", end=\" \")\n",
    "print(\"the same line.\")"
   ]
  },
  {
   "cell_type": "code",
   "execution_count": 10,
   "metadata": {},
   "outputs": [
    {
     "name": "stdout",
     "output_type": "stream",
     "text": [
      "Line 1\n",
      "Line 2\n",
      "Line 3\n"
     ]
    }
   ],
   "source": [
    "# Method 8: Printing in multiple lines\n",
    "print(\"Line 1\\nLine 2\\nLine 3\")"
   ]
  },
  {
   "cell_type": "code",
   "execution_count": 11,
   "metadata": {},
   "outputs": [
    {
     "name": "stdout",
     "output_type": "stream",
     "text": [
      "This is a \"quote\".\n"
     ]
    }
   ],
   "source": [
    "# Method 9: Printing using escape characters\n",
    "print(\"This is a \\\"quote\\\".\")"
   ]
  },
  {
   "cell_type": "code",
   "execution_count": 12,
   "metadata": {},
   "outputs": [
    {
     "name": "stdout",
     "output_type": "stream",
     "text": [
      "This is a raw string.\\nIt won't interpret escape characters.\n"
     ]
    }
   ],
   "source": [
    "# Method 10: Printing raw strings using r-prefix\n",
    "print(r\"This is a raw string.\\nIt won't interpret escape characters.\")"
   ]
  },
  {
   "cell_type": "code",
   "execution_count": 13,
   "metadata": {},
   "outputs": [
    {
     "name": "stdout",
     "output_type": "stream",
     "text": [
      "The answer is 42\n"
     ]
    }
   ],
   "source": [
    "# Method 11: Printing variables and literals together\n",
    "value = 42\n",
    "print(\"The answer is\", value)"
   ]
  },
  {
   "cell_type": "code",
   "execution_count": 14,
   "metadata": {},
   "outputs": [
    {
     "name": "stdout",
     "output_type": "stream",
     "text": [
      "This is a number: 123\n"
     ]
    }
   ],
   "source": [
    "# Method 12: Printing with explicit conversion using str()\n",
    "num = 123\n",
    "print(\"This is a number: \" + str(num))"
   ]
  }
 ],
 "metadata": {
  "kernelspec": {
   "display_name": "Python 3 (ipykernel)",
   "language": "python",
   "name": "python3"
  },
  "language_info": {
   "codemirror_mode": {
    "name": "ipython",
    "version": 3
   },
   "file_extension": ".py",
   "mimetype": "text/x-python",
   "name": "python",
   "nbconvert_exporter": "python",
   "pygments_lexer": "ipython3",
   "version": "3.10.13"
  }
 },
 "nbformat": 4,
 "nbformat_minor": 2
}
