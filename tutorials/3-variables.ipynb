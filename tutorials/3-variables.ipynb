{
 "cells": [
  {
   "cell_type": "markdown",
   "metadata": {},
   "source": [
    "### Variables need not be declared first in python. They can be used directly. Variables in python are case-sensitive as most of the other programming languages. "
   ]
  },
  {
   "cell_type": "markdown",
   "metadata": {},
   "source": [
    "**Valid Characters:**\n",
    "\n",
    "- Variable names can include letters (both uppercase and lowercase), digits, and underscores (`_`).\n",
    "- They cannot start with a digit.\n",
    "\n",
    "**Case-Sensitivity:**\n",
    "\n",
    "- Python is case-sensitive, so `myVar` and `myvar` are treated as different variables.\n",
    "\n",
    "**Reserved Words:**\n",
    "\n",
    "- Avoid using Python reserved words (keywords) as variable names. For example, you cannot use words like `if`, `else`, `while`, `class`, etc.\n",
    "\n",
    "**Start with a Letter or Underscore:**\n",
    "\n",
    "- Variable names must start with a letter (a-z, A-Z) or an underscore (`_`).\n",
    "\n",
    "**Convention for Multi-Word Names:**\n",
    "\n",
    "- Use a meaningful name that indicates the variable's purpose.\n",
    "- For multi-word names, use underscores to separate words (snake_case). For example, `user_name`, `total_count`.\n",
    "\n",
    "**Avoid Special Characters:**\n",
    "\n",
    "- Avoid using special characters such as `!`, `@`, `#`, `$`, `%`, etc. in variable names.\n",
    "\n",
    "**Avoid Built-in Functions:**\n",
    "\n",
    "- Avoid using names that conflict with built-in functions or modules, such as `print`, `len`, or `str`.\n",
    "\n",
    "**No Spaces:**\n",
    "\n",
    "- Variable names cannot contain spaces."
   ]
  },
  {
   "cell_type": "code",
   "execution_count": 2,
   "metadata": {},
   "outputs": [
    {
     "name": "stdout",
     "output_type": "stream",
     "text": [
      "3\n",
      "4\n"
     ]
    }
   ],
   "source": [
    "a = 3\n",
    "A = 4\n",
    "print (a)\n",
    "print (A)"
   ]
  },
  {
   "cell_type": "code",
   "execution_count": 6,
   "metadata": {},
   "outputs": [
    {
     "ename": "SyntaxError",
     "evalue": "invalid decimal literal (2773924311.py, line 3)",
     "output_type": "error",
     "traceback": [
      "\u001b[0;36m  Cell \u001b[0;32mIn[6], line 3\u001b[0;36m\u001b[0m\n\u001b[0;31m    2nd_place = 3   # Starts with a digit\u001b[0m\n\u001b[0m    ^\u001b[0m\n\u001b[0;31mSyntaxError\u001b[0m\u001b[0;31m:\u001b[0m invalid decimal literal\n"
     ]
    }
   ],
   "source": [
    "# Invalid variable names\n",
    "\n",
    "2nd_place = 3   # Starts with a digit\n",
    "my-var = 5      # Contains a special character \"-\"\n",
    "class = \"Math\"  # Reserved keyword"
   ]
  },
  {
   "cell_type": "markdown",
   "metadata": {},
   "source": [
    "### An expression is a combination of values, variables, operators, and function calls that evaluates to a single value. It can represent computations or data manipulations.\n"
   ]
  },
  {
   "cell_type": "code",
   "execution_count": 3,
   "metadata": {},
   "outputs": [
    {
     "name": "stdout",
     "output_type": "stream",
     "text": [
      "5\n",
      "6\n"
     ]
    }
   ],
   "source": [
    "a = 2\n",
    "b = 3\n",
    "c = a + b\n",
    "print (c)\n",
    "d = a * b\n",
    "print (d)"
   ]
  },
  {
   "cell_type": "markdown",
   "metadata": {},
   "source": [
    "### A condition is a Boolean expression that determines the flow of execution in a program. It is used in decision-making constructs like if, elif (else if), and while loops."
   ]
  },
  {
   "cell_type": "code",
   "execution_count": 5,
   "metadata": {},
   "outputs": [
    {
     "name": "stdout",
     "output_type": "stream",
     "text": [
      "x is positive\n"
     ]
    }
   ],
   "source": [
    "x = 4\n",
    "\n",
    "if x > 0:\n",
    "    print(\"x is positive\")\n",
    "elif x == 0:\n",
    "    print(\"x is zero\")\n",
    "else:\n",
    "    print(\"x is negative\")"
   ]
  },
  {
   "cell_type": "markdown",
   "metadata": {},
   "source": [
    "## Python Local Variables\n",
    "### Local variables in Python are those which are initialized inside a function and belong only to that particular function. It cannot be accessed anywhere outside the function."
   ]
  },
  {
   "cell_type": "code",
   "execution_count": null,
   "metadata": {},
   "outputs": [],
   "source": [
    "def f():\n",
    "\n",
    "\t# local variable\n",
    "\ts = \"I love Python\"\n",
    "\tprint(s)\n",
    "\n",
    "\n",
    "# Driver code\n",
    "f()\n",
    "# print(s) # cannot access local variable outside its scope"
   ]
  },
  {
   "cell_type": "markdown",
   "metadata": {},
   "source": [
    "## Python Global Variables\n",
    "### These are those which are defined outside any function and which are accessible throughout the program, i.e., inside and outside of every function."
   ]
  },
  {
   "cell_type": "code",
   "execution_count": 8,
   "metadata": {},
   "outputs": [
    {
     "name": "stdout",
     "output_type": "stream",
     "text": [
      "Inside Function I love Python\n",
      "Outside Function I love Python\n"
     ]
    }
   ],
   "source": [
    "# This function uses global variable s\n",
    "def f():\n",
    "\tprint(\"Inside Function\", s)\n",
    "\n",
    "# Global scope\n",
    "s = \"I love Python\"\n",
    "f()\n",
    "print(\"Outside Function\", s)"
   ]
  },
  {
   "cell_type": "code",
   "execution_count": null,
   "metadata": {},
   "outputs": [],
   "source": []
  }
 ],
 "metadata": {
  "kernelspec": {
   "display_name": "Python 3",
   "language": "python",
   "name": "python3"
  },
  "language_info": {
   "codemirror_mode": {
    "name": "ipython",
    "version": 3
   },
   "file_extension": ".py",
   "mimetype": "text/x-python",
   "name": "python",
   "nbconvert_exporter": "python",
   "pygments_lexer": "ipython3",
   "version": "3.10.13"
  }
 },
 "nbformat": 4,
 "nbformat_minor": 2
}
